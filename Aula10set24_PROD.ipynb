{
  "nbformat": 4,
  "nbformat_minor": 0,
  "metadata": {
    "colab": {
      "provenance": [],
      "include_colab_link": true
    },
    "kernelspec": {
      "name": "python3",
      "display_name": "Python 3"
    },
    "language_info": {
      "name": "python"
    }
  },
  "cells": [
    {
      "cell_type": "markdown",
      "metadata": {
        "id": "view-in-github",
        "colab_type": "text"
      },
      "source": [
        "<a href=\"https://colab.research.google.com/github/Cel007-eng/TurmaMECANICA1/blob/main/Aula10set24_PROD.ipynb\" target=\"_parent\"><img src=\"https://colab.research.google.com/assets/colab-badge.svg\" alt=\"Open In Colab\"/></a>"
      ]
    },
    {
      "cell_type": "markdown",
      "source": [
        "#Exemplo 03) Programa para Verificar se PAR ou IMPAR"
      ],
      "metadata": {
        "id": "uVGs_BNiKNmu"
      }
    },
    {
      "cell_type": "code",
      "execution_count": null,
      "metadata": {
        "colab": {
          "base_uri": "https://localhost:8080/"
        },
        "id": "r0TVwkFy9OfS",
        "outputId": "d5ea7eb3-203c-48a9-dc82-7377793adc8e"
      },
      "outputs": [
        {
          "output_type": "stream",
          "name": "stdout",
          "text": [
            "Digite numero inteiro: 99\n",
            "O numero 99 é ÍMPAR\n"
          ]
        }
      ],
      "source": [
        "numero = int(input(\"Digite numero inteiro: \"))\n",
        "if numero % 2 == 0:\n",
        "  print(f\"O numero {numero} é PAR\")\n",
        "else:\n",
        "  print(f\"O numero {numero} é ÍMPAR\")\n"
      ]
    },
    {
      "cell_type": "markdown",
      "source": [
        "import math\n",
        "numero = float(input(\"Digite um número: \"))\n",
        "if numero >= 0:\n",
        "  raiz_quadrada = match.sqrt(numero)\n",
        "  print(f\"A raiz quadrada de {numero} é {raiz_quadrada:.2f}.\")\n",
        "  else:\n",
        "  print(\"Não existe raiz real para este número!\")\n",
        "  \n",
        "\n"
      ],
      "metadata": {
        "id": "9JtZiPSNNtHG"
      }
    },
    {
      "cell_type": "code",
      "source": [
        "import math\n",
        "numero = float(input(\"Digite um número: \"))\n",
        "if numero >= 0:\n",
        "  raiz_quadrada = math.sqrt(numero)\n",
        "  print(f\"A raiz quadrada de {numero} é {raiz_quadrada:.2f}.\")\n",
        "else:\n",
        "  print(\"Não existe raiz real para este número!\")\n",
        "\n",
        "\n",
        ""
      ],
      "metadata": {
        "id": "J7VbDLzpPxFo",
        "outputId": "fb623778-6d02-4053-cf62-89637f60d71f",
        "colab": {
          "base_uri": "https://localhost:8080/"
        }
      },
      "execution_count": 13,
      "outputs": [
        {
          "output_type": "stream",
          "name": "stdout",
          "text": [
            "Digite um número: 49\n",
            "A raiz quadrada de 49.0 é 7.00.\n"
          ]
        }
      ]
    }
  ]
}
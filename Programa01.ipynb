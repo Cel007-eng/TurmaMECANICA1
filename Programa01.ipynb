{
  "nbformat": 4,
  "nbformat_minor": 0,
  "metadata": {
    "colab": {
      "provenance": [],
      "authorship_tag": "ABX9TyPF2Hkyt+C7W9Dv50C0YRD6",
      "include_colab_link": true
    },
    "kernelspec": {
      "name": "python3",
      "display_name": "Python 3"
    },
    "language_info": {
      "name": "python"
    }
  },
  "cells": [
    {
      "cell_type": "markdown",
      "metadata": {
        "id": "view-in-github",
        "colab_type": "text"
      },
      "source": [
        "<a href=\"https://colab.research.google.com/github/igarashimassaki/TurmaMECANICA1/blob/main/Programa01.ipynb\" target=\"_parent\"><img src=\"https://colab.research.google.com/assets/colab-badge.svg\" alt=\"Open In Colab\"/></a>"
      ]
    },
    {
      "cell_type": "markdown",
      "source": [
        "#MEU PRIMEIRO PROGRAMA"
      ],
      "metadata": {
        "id": "4EqYMfoYGWiR"
      }
    },
    {
      "cell_type": "code",
      "execution_count": 4,
      "metadata": {
        "id": "dEb01p6z-ddw",
        "colab": {
          "base_uri": "https://localhost:8080/"
        },
        "outputId": "255cb2be-2241-44a0-b68c-e3fe66ca35fe"
      },
      "outputs": [
        {
          "output_type": "stream",
          "name": "stdout",
          "text": [
            "<class 'str'>\n",
            "<class 'str'>\n",
            "<class 'str'>\n",
            "23.0\n"
          ]
        }
      ],
      "source": [
        "#Importancia dos tipos de variáveis\n",
        "a = \"2\"\n",
        "print(type(a))\n",
        "b = '3.0'\n",
        "print(type(b))\n",
        "soma = a + b\n",
        "print(type(soma))\n",
        "print(soma)\n"
      ]
    },
    {
      "cell_type": "markdown",
      "source": [
        "### lembrar que sempre que quiser calcular é preciso informar que estou lidando com nº int ou float"
      ],
      "metadata": {
        "id": "zTDikBgAIzco"
      }
    },
    {
      "cell_type": "code",
      "source": [
        "num = int(input(\"Digite valor inteiro: \"))\n",
        "print(type(num))\n",
        "quoc = num//2\n",
        "resto = num % 2\n",
        "print(quoc)\n",
        "print(resto)"
      ],
      "metadata": {
        "id": "0DIppTQVI8wo",
        "outputId": "e456e5f8-c094-4581-bc26-926e461e671e",
        "colab": {
          "base_uri": "https://localhost:8080/"
        }
      },
      "execution_count": 8,
      "outputs": [
        {
          "output_type": "stream",
          "name": "stdout",
          "text": [
            "Digite valor inteiro: 9\n",
            "<class 'int'>\n",
            "4\n",
            "1\n"
          ]
        }
      ]
    }
  ]
}